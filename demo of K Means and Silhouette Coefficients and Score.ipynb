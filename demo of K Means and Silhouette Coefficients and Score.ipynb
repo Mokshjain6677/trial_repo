{
 "cells": [
  {
   "cell_type": "code",
   "execution_count": 1,
   "id": "9e7f48ec",
   "metadata": {},
   "outputs": [
    {
     "name": "stdout",
     "output_type": "stream",
     "text": [
      "Cluster labels: [1 1 1 1 1 1 0 0 0 0]\n",
      "Silhouette coefficients: [0.63056672 0.70837543 0.69985523 0.64365326 0.31507577 0.3194783\n",
      " 0.15250738 0.60184508 0.69309054 0.62560752]\n",
      "Silhouette score: 0.5390055225153928\n"
     ]
    }
   ],
   "source": [
    "import numpy as np\n",
    "from sklearn.cluster import KMeans\n",
    "from sklearn.metrics import silhouette_samples, silhouette_score\n",
    "\n",
    "# Generate some toy data\n",
    "X = np.array([[1, 2], [3, 4], [4, 3], [5, 6], [7, 8], [8, 7], [9, 10], [11, 12], [13, 14], [15, 16]])\n",
    "\n",
    "# Fit K-means with K=2\n",
    "kmeans = KMeans(n_clusters=2, random_state=42).fit(X)\n",
    "\n",
    "# Get the cluster labels and silhouette coefficients\n",
    "labels = kmeans.labels_\n",
    "silhouette_coef = silhouette_samples(X, labels)\n",
    "\n",
    "# Compute the overall silhouette score\n",
    "silhouette_avg = silhouette_score(X, labels)\n",
    "\n",
    "print(\"Cluster labels:\", labels)\n",
    "print(\"Silhouette coefficients:\", silhouette_coef)\n",
    "print(\"Silhouette score:\", silhouette_avg)\n"
   ]
  },
  {
   "cell_type": "code",
   "execution_count": 3,
   "id": "4c381d8b",
   "metadata": {},
   "outputs": [
    {
     "data": {
      "text/plain": [
       "0.5390055225153928"
      ]
     },
     "execution_count": 3,
     "metadata": {},
     "output_type": "execute_result"
    }
   ],
   "source": [
    "np.mean(silhouette_coef)"
   ]
  },
  {
   "cell_type": "code",
   "execution_count": null,
   "id": "8f9c6414",
   "metadata": {},
   "outputs": [],
   "source": []
  }
 ],
 "metadata": {
  "kernelspec": {
   "display_name": "Python 3 (ipykernel)",
   "language": "python",
   "name": "python3"
  },
  "language_info": {
   "codemirror_mode": {
    "name": "ipython",
    "version": 3
   },
   "file_extension": ".py",
   "mimetype": "text/x-python",
   "name": "python",
   "nbconvert_exporter": "python",
   "pygments_lexer": "ipython3",
   "version": "3.9.7"
  }
 },
 "nbformat": 4,
 "nbformat_minor": 5
}
